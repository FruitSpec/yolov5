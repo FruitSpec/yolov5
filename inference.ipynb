{
 "cells": [
  {
   "cell_type": "code",
   "execution_count": 1,
   "metadata": {},
   "outputs": [],
   "source": [
    "\n",
    "weight_url = \"/home/yotam/PycharmProjects/YOLOv5/yolov5/weights/best_yolov5s_results_round.pt\"\n",
    "\n",
    "test_images = \"/home/yotam/Downloads/test/images\""
   ]
  },
  {
   "cell_type": "code",
   "execution_count": 2,
   "metadata": {},
   "outputs": [
    {
     "name": "stdout",
     "output_type": "stream",
     "text": [
      "Namespace(agnostic_nms=False, augment=False, classes=None, conf_thres=0.1, device='', img_size=416, iou_thres=0.1, output='inference/output', save_txt=True, source='/home/yotam/Downloads/EREZTEST', update=False, view_img=False, weights=['/home/yotam/PycharmProjects/YOLOv5/yolov5/weights/best_yolov5s_results_round.pt'])\n",
      "Using CPU\n",
      "\n",
      "Fusing layers... Model Summary: 140 layers, 7.24652e+06 parameters, 6.61683e+06 gradients\n",
      "image 1/1 /home/yotam/Downloads/EREZTEST/RADIANCE_CVHSLHS5_row003B_0001FSI.png: 32x416 8 round fruitss, Done. (0.016s)\n",
      "Results saved to inference/output\n",
      "Done. (1.942s)\n"
     ]
    }
   ],
   "source": [
    "!python detect.py --weights /home/yotam/PycharmProjects/YOLOv5/yolov5/weights/best_yolov5s_results_round.pt --img 416 --conf 0.1 --iou-thres 0.1 --source '/home/yotam/Downloads/EREZTEST' --save-txt\n"
   ]
  },
  {
   "cell_type": "code",
   "execution_count": 32,
   "metadata": {},
   "outputs": [],
   "source": [
    "import os\n",
    "import pandas as pd\n",
    "\n",
    "\n",
    "output_dir = '/home/yotam/PycharmProjects/YOLOv5/yolov5/inference/output/'\n",
    "os.chdir(output_dir)\n",
    "dict = {}\n",
    "\n",
    "for file in os.listdir(output_dir):\n",
    "    if file.endswith('.txt'):\n",
    "        with open(file, 'r') as f:\n",
    "            for i, l in enumerate(f):\n",
    "                pass\n",
    "        dict[file.split('.')[-2]] = i+1\n",
    "\n",
    "        \n",
    "df = pd.read_excel('dataset_metadata.xlsx', usecols=['File name','pixel start','pixel end','V - counting', 'V - Tagging '])\n",
    "df['CV - YOLOv5s'] = \"\"\n",
    "for index, row in df.iterrows():\n",
    "    for key in dict.keys():\n",
    "            if key.__contains__(\"{0}\".format(row['File name'])) and key.__contains__(\"{0}_{1}\".format(row['pixel start'], row['pixel end'])):\n",
    "                df['CV - YOLOv5s'].iloc[index] = dict[key]\n",
    "                \n",
    "with open(\"results.csv\", 'w') as f:\n",
    "    df.to_csv(f, sep=',', index=False)\n",
    "\n"
   ]
  }
 ],
 "metadata": {
  "kernelspec": {
   "display_name": "Python 3",
   "language": "python",
   "name": "python3"
  },
  "language_info": {
   "codemirror_mode": {
    "name": "ipython",
    "version": 3
   },
   "file_extension": ".py",
   "mimetype": "text/x-python",
   "name": "python",
   "nbconvert_exporter": "python",
   "pygments_lexer": "ipython3",
   "version": "3.6.10"
  }
 },
 "nbformat": 4,
 "nbformat_minor": 4
}
