{
 "cells": [
  {
   "cell_type": "code",
   "execution_count": 5,
   "metadata": {},
   "outputs": [],
   "source": [
    "\n",
    "weight_url = \"/home/yotam/PycharmProjects/YOLOv5/yolov5/weights/best_grape.pt\"\n",
    "\n",
    "test_images = \"/home/yotam/PycharmProjects/YOLOv5/yolov5/test/images\""
   ]
  },
  {
   "cell_type": "code",
   "execution_count": 1,
   "metadata": {},
   "outputs": [
    {
     "name": "stdout",
     "output_type": "stream",
     "text": [
      "Namespace(agnostic_nms=False, augment=False, classes=None, conf_thres=0.3, device='', img_size=1024, iou_thres=0.5, output='inference/output', save_txt=False, source='/home/yotam/PycharmProjects/YOLOv5/yolov5/inference/images/test', update=False, view_img=False, weights=['/home/yotam/PycharmProjects/YOLOv5/yolov5/weights/best_round.pt'])\n",
      "Using CUDA device0 _CudaDeviceProperties(name='GeForce RTX 2060 SUPER', total_memory=7979MB)\n",
      "\n",
      "Fusing layers... Model Summary: 140 layers, 7.24652e+06 parameters, 6.61683e+06 gradients\n",
      "Traceback (most recent call last):\n",
      "  File \"detect.py\", line 196, in <module>\n",
      "    err = detect()\n",
      "  File \"detect.py\", line 64, in detect\n",
      "    _ = model(img.half() if half else img) if device.type != 'cpu' else None  # run once\n",
      "  File \"/home/yotam/anaconda3/envs/fse/lib/python3.6/site-packages/torch/nn/modules/module.py\", line 722, in _call_impl\n",
      "    result = self.forward(*input, **kwargs)\n",
      "  File \"/home/yotam/PycharmProjects/YOLOv5/yolov5/models/yolo.py\", line 109, in forward\n",
      "    return self.forward_once(x, profile)  # single-scale inference, train\n",
      "  File \"/home/yotam/PycharmProjects/YOLOv5/yolov5/models/yolo.py\", line 129, in forward_once\n",
      "    x = m(x)  # run\n",
      "  File \"/home/yotam/anaconda3/envs/fse/lib/python3.6/site-packages/torch/nn/modules/module.py\", line 722, in _call_impl\n",
      "    result = self.forward(*input, **kwargs)\n",
      "  File \"/home/yotam/PycharmProjects/YOLOv5/yolov5/models/yolo.py\", line 34, in forward\n",
      "    self.training |= self.export\n",
      "  File \"/home/yotam/anaconda3/envs/fse/lib/python3.6/site-packages/torch/nn/modules/module.py\", line 772, in __getattr__\n",
      "    type(self).__name__, name))\n",
      "torch.nn.modules.module.ModuleAttributeError: 'Detect' object has no attribute 'export'\n"
     ]
    }
   ],
   "source": [
    "!python detect.py --weights /home/yotam/PycharmProjects/YOLOv5/yolov5/weights/best_round.pt --img 1024 --conf 0.3 --source '/home/yotam/PycharmProjects/YOLOv5/yolov5/inference/images/test' \n"
   ]
  },
  {
   "cell_type": "code",
   "execution_count": 32,
   "metadata": {},
   "outputs": [],
   "source": [
    "import os\n",
    "import pandas as pd\n",
    "\n",
    "\n",
    "output_dir = '/home/yotam/PycharmProjects/YOLOv5/yolov5/inference/output/'\n",
    "os.chdir(output_dir)\n",
    "dict = {}\n",
    "\n",
    "for file in os.listdir(output_dir):\n",
    "    if file.endswith('.txt'):\n",
    "        with open(file, 'r') as f:\n",
    "            for i, l in enumerate(f):\n",
    "                pass\n",
    "        dict[file.split('.')[-2]] = i+1\n",
    "\n",
    "        \n",
    "df = pd.read_excel('dataset_metadata.xlsx', usecols=['File name','pixel start','pixel end','V - counting', 'V - Tagging '])\n",
    "df['CV - YOLOv5s'] = \"\"\n",
    "for index, row in df.iterrows():\n",
    "    for key in dict.keys():\n",
    "            if key.__contains__(\"{0}\".format(row['File name'])) and key.__contains__(\"{0}_{1}\".format(row['pixel start'], row['pixel end'])):\n",
    "                df['CV - YOLOv5s'].iloc[index] = dict[key]\n",
    "                \n",
    "with open(\"results.csv\", 'w') as f:\n",
    "    df.to_csv(f, sep=',', index=False)\n",
    "\n"
   ]
  }
 ],
 "metadata": {
  "kernelspec": {
   "display_name": "Python 3",
   "language": "python",
   "name": "python3"
  },
  "language_info": {
   "codemirror_mode": {
    "name": "ipython",
    "version": 3
   },
   "file_extension": ".py",
   "mimetype": "text/x-python",
   "name": "python",
   "nbconvert_exporter": "python",
   "pygments_lexer": "ipython3",
   "version": "3.6.10"
  }
 },
 "nbformat": 4,
 "nbformat_minor": 4
}
