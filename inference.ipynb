{
 "cells": [
  {
   "cell_type": "code",
   "execution_count": 1,
   "metadata": {},
   "outputs": [],
   "source": [
    "\n",
    "weight_url = \"/home/yotam/PycharmProjects/YOLOv5/yolov5/weights/best_grape.pt\"\n",
    "\n",
    "test_images = \"/home/yotam/PycharmProjects/YOLOv5/yolov5/test/images\""
   ]
  },
  {
   "cell_type": "code",
   "execution_count": 11,
   "metadata": {},
   "outputs": [
    {
     "name": "stdout",
     "output_type": "stream",
     "text": [
      "Namespace(agnostic_nms=False, augment=False, classes=None, conf_thres=0.1, device='cpu', img_size=416, iou_thres=0.1, output='inference/output', save_txt=False, source='/home/yotam/PycharmProjects/YOLOv5/yolov5/test/images', update=False, view_img=False, weights=['/home/yotam/PycharmProjects/YOLOv5/yolov5/weights/best_grape.pt'])\r\n",
      "Using CPU\r\n",
      "\r\n",
      "Traceback (most recent call last):\r\n",
      "  File \"/home/yotam/anaconda3/envs/fse/lib/python3.6/tarfile.py\", line 189, in nti\r\n",
      "    n = int(s.strip() or \"0\", 8)\r\n",
      "ValueError: invalid literal for int() with base 8: 'py\\nndarr'\r\n",
      "\r\n",
      "During handling of the above exception, another exception occurred:\r\n",
      "\r\n",
      "Traceback (most recent call last):\r\n",
      "  File \"/home/yotam/anaconda3/envs/fse/lib/python3.6/tarfile.py\", line 2297, in next\r\n",
      "    tarinfo = self.tarinfo.fromtarfile(self)\r\n",
      "  File \"/home/yotam/anaconda3/envs/fse/lib/python3.6/tarfile.py\", line 1093, in fromtarfile\r\n",
      "    obj = cls.frombuf(buf, tarfile.encoding, tarfile.errors)\r\n",
      "  File \"/home/yotam/anaconda3/envs/fse/lib/python3.6/tarfile.py\", line 1035, in frombuf\r\n",
      "    chksum = nti(buf[148:156])\r\n",
      "  File \"/home/yotam/anaconda3/envs/fse/lib/python3.6/tarfile.py\", line 191, in nti\r\n",
      "    raise InvalidHeaderError(\"invalid header\")\r\n",
      "tarfile.InvalidHeaderError: invalid header\r\n",
      "\r\n",
      "During handling of the above exception, another exception occurred:\r\n",
      "\r\n",
      "Traceback (most recent call last):\r\n",
      "  File \"/home/yotam/anaconda3/envs/fse/lib/python3.6/site-packages/torch/serialization.py\", line 555, in _load\r\n",
      "    return legacy_load(f)\r\n",
      "  File \"/home/yotam/anaconda3/envs/fse/lib/python3.6/site-packages/torch/serialization.py\", line 466, in legacy_load\r\n",
      "    with closing(tarfile.open(fileobj=f, mode='r:', format=tarfile.PAX_FORMAT)) as tar, \\\r\n",
      "  File \"/home/yotam/anaconda3/envs/fse/lib/python3.6/tarfile.py\", line 1589, in open\r\n",
      "    return func(name, filemode, fileobj, **kwargs)\r\n",
      "  File \"/home/yotam/anaconda3/envs/fse/lib/python3.6/tarfile.py\", line 1619, in taropen\r\n",
      "    return cls(name, mode, fileobj, **kwargs)\r\n",
      "  File \"/home/yotam/anaconda3/envs/fse/lib/python3.6/tarfile.py\", line 1482, in __init__\r\n",
      "    self.firstmember = self.next()\r\n",
      "  File \"/home/yotam/anaconda3/envs/fse/lib/python3.6/tarfile.py\", line 2309, in next\r\n",
      "    raise ReadError(str(e))\r\n",
      "tarfile.ReadError: invalid header\r\n",
      "\r\n",
      "During handling of the above exception, another exception occurred:\r\n",
      "\r\n",
      "Traceback (most recent call last):\r\n",
      "  File \"detect.py\", line 196, in <module>\r\n",
      "    err = detect()\r\n",
      "  File \"detect.py\", line 35, in detect\r\n",
      "    model = attempt_load(weights, map_location=device)  # load FP32 model\r\n",
      "  File \"/home/yotam/PycharmProjects/YOLOv5/yolov5/models/experimental.py\", line 137, in attempt_load\r\n",
      "    model.append(torch.load(w, map_location=map_location)['model'].float().fuse().eval())  # load FP32 model\r\n",
      "  File \"/home/yotam/anaconda3/envs/fse/lib/python3.6/site-packages/torch/serialization.py\", line 386, in load\r\n",
      "    return _load(f, map_location, pickle_module, **pickle_load_args)\r\n",
      "  File \"/home/yotam/anaconda3/envs/fse/lib/python3.6/site-packages/torch/serialization.py\", line 559, in _load\r\n",
      "    raise RuntimeError(\"{} is a zip archive (did you mean to use torch.jit.load()?)\".format(f.name))\r\n",
      "RuntimeError: /home/yotam/PycharmProjects/YOLOv5/yolov5/weights/best_grape.pt is a zip archive (did you mean to use torch.jit.load()?)\r\n"
     ]
    }
   ],
   "source": [
    "!python detect.py --weights /home/yotam/PycharmProjects/YOLOv5/yolov5/weights/best_grape.pt --img 416 --conf 0.1 --iou-thres 0.1 --source '/home/yotam/PycharmProjects/YOLOv5/yolov5/test/images' --device cpu\n"
   ]
  },
  {
   "cell_type": "code",
   "execution_count": 32,
   "metadata": {},
   "outputs": [],
   "source": [
    "import os\n",
    "import pandas as pd\n",
    "\n",
    "\n",
    "output_dir = '/home/yotam/PycharmProjects/YOLOv5/yolov5/inference/output/'\n",
    "os.chdir(output_dir)\n",
    "dict = {}\n",
    "\n",
    "for file in os.listdir(output_dir):\n",
    "    if file.endswith('.txt'):\n",
    "        with open(file, 'r') as f:\n",
    "            for i, l in enumerate(f):\n",
    "                pass\n",
    "        dict[file.split('.')[-2]] = i+1\n",
    "\n",
    "        \n",
    "df = pd.read_excel('dataset_metadata.xlsx', usecols=['File name','pixel start','pixel end','V - counting', 'V - Tagging '])\n",
    "df['CV - YOLOv5s'] = \"\"\n",
    "for index, row in df.iterrows():\n",
    "    for key in dict.keys():\n",
    "            if key.__contains__(\"{0}\".format(row['File name'])) and key.__contains__(\"{0}_{1}\".format(row['pixel start'], row['pixel end'])):\n",
    "                df['CV - YOLOv5s'].iloc[index] = dict[key]\n",
    "                \n",
    "with open(\"results.csv\", 'w') as f:\n",
    "    df.to_csv(f, sep=',', index=False)\n",
    "\n"
   ]
  }
 ],
 "metadata": {
  "kernelspec": {
   "display_name": "Python 3",
   "language": "python",
   "name": "python3"
  },
  "language_info": {
   "codemirror_mode": {
    "name": "ipython",
    "version": 3
   },
   "file_extension": ".py",
   "mimetype": "text/x-python",
   "name": "python",
   "nbconvert_exporter": "python",
   "pygments_lexer": "ipython3",
   "version": "3.6.10"
  }
 },
 "nbformat": 4,
 "nbformat_minor": 4
}
